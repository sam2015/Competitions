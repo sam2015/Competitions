{
 "cells": [
  {
   "cell_type": "markdown",
   "metadata": {},
   "source": [
    "<h1>Natural Language Processing/ Artificial Intelligence <br> Coding Problem</h1>"
   ]
  },
  {
   "cell_type": "code",
   "execution_count": 44,
   "metadata": {
    "collapsed": true
   },
   "outputs": [],
   "source": [
    "import os.path\n",
    "import sys\n",
    "\n",
    "try:\n",
    "    import apiai\n",
    "except ImportError:\n",
    "    sys.path.append(\n",
    "        os.path.join(os.path.dirname(os.path.realpath(__file__)), os.pardir)\n",
    "    )\n",
    "    import apiai\n",
    "    \n",
    "import json"
   ]
  },
  {
   "cell_type": "code",
   "execution_count": 45,
   "metadata": {
    "collapsed": true
   },
   "outputs": [],
   "source": [
    "import nltk \n",
    "from nltk import word_tokenize\n",
    "from nltk.corpus import wordnet\n",
    "from nltk.corpus import stopwords\n",
    "from nltk import wordpunct_tokenize\n",
    "from itertools import chain\n",
    "from langdetect import detect\n",
    "stop = set(stopwords.words('english'))"
   ]
  },
  {
   "cell_type": "markdown",
   "metadata": {},
   "source": [
    "<h4>Problem Statement 1: Tagging and tokenization</h4>\n",
    "\n",
    "<p>Write a program in python to: <br>\n",
    "Read a text file, split the input text content into sentences and then and for sentence print the\n",
    "following features. <br>\n",
    "1. All the nouns in the Sentence. <br>\n",
    "2. All the verbs in the sentence. <br>\n",
    "3. All the stop words that appear in the sentence <br>\n",
    "4. All the adjectives in the sentence <br>\n",
    "5. All the adverbs in the sentence <br>\n",
    "6. All the synonyms for every adjective of the sentence. <br>\n",
    "7. Antonym of every adjective in the sentence.</p>"
   ]
  },
  {
   "cell_type": "markdown",
   "metadata": {},
   "source": [
    "########################################"
   ]
  },
  {
   "cell_type": "code",
   "execution_count": 46,
   "metadata": {
    "collapsed": true
   },
   "outputs": [],
   "source": [
    "# extracting synontms and antonyms from given char using synonyms_Antonym function\n",
    "def read_adj(adj):\n",
    "    data = dict()\n",
    "    for i in range(len(adj)):\n",
    "        sys, anto = synonyms_Antonym(adj[i]) # synonyms_Antonym function to extract\n",
    "        data[adj[i]] = {     # dict\n",
    "            \"synonyms\": sys,\n",
    "            \"antonym\": anto\n",
    "        }\n",
    "        \n",
    "    return data"
   ]
  },
  {
   "cell_type": "code",
   "execution_count": 47,
   "metadata": {
    "collapsed": true
   },
   "outputs": [],
   "source": [
    "# function to extract synonyms & antonyms from adjectives\n",
    "def synonyms_Antonym(adj):\n",
    "    synonyms = []\n",
    "    antonyms = []\n",
    "    for syn in wordnet.synsets(adj):\n",
    "        for l in syn.lemmas():\n",
    "            synonyms.append(l.name())\n",
    "            if l.antonyms():\n",
    "                antonyms.append(l.antonyms()[0].name())\n",
    "                \n",
    "    return [str(y) for _,y in enumerate(set(synonyms))][:6], [str(y) for _,y in enumerate(set(antonyms))][:5]"
   ]
  },
  {
   "cell_type": "code",
   "execution_count": 48,
   "metadata": {
    "collapsed": true
   },
   "outputs": [],
   "source": [
    "# Extracting stop words from sentences\n",
    "def stop_words(sentence):\n",
    "    stop = set(stopwords.words('english')) # english stop words in list\n",
    "    return list(set([i for i in sentence.lower().split() if i in stop]))"
   ]
  },
  {
   "cell_type": "code",
   "execution_count": 49,
   "metadata": {
    "collapsed": true
   },
   "outputs": [],
   "source": [
    "# extracting noun, verbs, adverbs, adjectives etc from text and return in to a dict \n",
    "def tagging_tok(TEXT):\n",
    "    text = word_tokenize(TEXT)\n",
    "    pos_tag = nltk.pos_tag(text)\n",
    "    #print pos_tag\n",
    "    nouns = [pos_tag[i][0] for i in range(len(pos_tag)) if 'NN' in pos_tag[i][1]] #nouns\n",
    "    verbs = [pos_tag[i][0] for i in range(len(pos_tag)) if 'VB' in pos_tag[i][1]] # verbs\n",
    "    adjectives = [pos_tag[i][0] for i in range(len(pos_tag)) if 'JJ' in pos_tag[i][1]] #adjectives\n",
    "    adverbs = [pos_tag[i][0] for i in range(len(pos_tag)) if 'RB' in pos_tag[i][1]]  #adverbs\n",
    "    \n",
    "    data = {\n",
    "        'noun': nouns,\n",
    "        'verbs': verbs,\n",
    "        'adjectives': adjectives,\n",
    "        'adverbs': adverbs,\n",
    "        'synoms_antoms': read_adj(adjectives),\n",
    "        'stop_words': stop_words(TEXT)\n",
    "    }\n",
    "    \n",
    "    return data"
   ]
  },
  {
   "cell_type": "code",
   "execution_count": 50,
   "metadata": {
    "collapsed": true
   },
   "outputs": [],
   "source": [
    "# printing out synonyms & antonyms \n",
    "def print_sy_an(adjectives, data):\n",
    "    sys = data['synoms_antoms'][adjectives]['synonyms']\n",
    "    ant = data['synoms_antoms'][adjectives]['antonym']\n",
    "    print \"Synonyms: word(\"+str(adjectives)+\") : \" +\" , \".join([sys[i] for i in range(len(sys))])\n",
    "    print \"Antonyms: word(\"+str(adjectives)+\") : \" +\" , \".join([ant[i] for i in range(len(ant))])"
   ]
  },
  {
   "cell_type": "code",
   "execution_count": 52,
   "metadata": {
    "collapsed": true
   },
   "outputs": [],
   "source": [
    "# printing out all in prerequisite format\n",
    "def print_(sent):\n",
    "    data = tagging_tok(TEXT=sent)\n",
    "    print \"Nouns: \"+ \" , \".join([data['noun'][i] for i in range(len(data['noun']))])\n",
    "    print \"Verbs: \"+ \" , \".join([data['verbs'][i] for i in range(len(data['verbs']))])\n",
    "    print \"Stop-words: \"+ \" , \".join([data['stop_words'][i] for i in range(len(data['stop_words']))])\n",
    "    print \"Adjectives: \"+ \" , \".join([data['adjectives'][i] for i in range(len(data['adjectives']))])\n",
    "    print \"Adverbs: \"+ \" , \".join([data['adverbs'][i] for i in range(len(data['adverbs']))])\n",
    "    [print_sy_an(data['adjectives'][i], data) for i in range(len(data['adjectives']))]"
   ]
  },
  {
   "cell_type": "markdown",
   "metadata": {},
   "source": [
    "### Example 1\n",
    "\n",
    "<p>The Minister found herself in an happy situation when the House unprecedentedly voted her to continue to be in power.</p>"
   ]
  },
  {
   "cell_type": "code",
   "execution_count": 64,
   "metadata": {
    "collapsed": true
   },
   "outputs": [],
   "source": [
    "TEXT = 'The Minister found herself in an happy situation when the House unprecedentedly voted her to continue to be in power.'"
   ]
  },
  {
   "cell_type": "code",
   "execution_count": 54,
   "metadata": {},
   "outputs": [
    {
     "name": "stdout",
     "output_type": "stream",
     "text": [
      "Nouns: Minister , situation , House , power\n",
      "Verbs: found , voted , continue , be\n",
      "Stop-words: be , her , when , an , to , in , the , herself\n",
      "Adjectives: happy\n",
      "Adverbs: when , unprecedentedly\n",
      "Synonyms: word(happy) : felicitous , well-chosen , glad , happy\n",
      "Antonyms: word(happy) : unhappy\n"
     ]
    }
   ],
   "source": [
    "print_(TEXT)"
   ]
  },
  {
   "cell_type": "markdown",
   "metadata": {},
   "source": [
    "### Example 2\n",
    "\n",
    "<p>When I think about what you are doing, I wonder if you realize the effect you are having on me. It hurts. A lot.</p>"
   ]
  },
  {
   "cell_type": "code",
   "execution_count": 55,
   "metadata": {
    "collapsed": true
   },
   "outputs": [],
   "source": [
    "TEXT2 = \"When I think about what you are doing, I wonder if you realize the effect you are having on me. It hurts. A lot.\""
   ]
  },
  {
   "cell_type": "code",
   "execution_count": 56,
   "metadata": {},
   "outputs": [
    {
     "name": "stdout",
     "output_type": "stream",
     "text": [
      "Nouns: effect , lot\n",
      "Verbs: think , are , doing , wonder , realize , are , having , hurts\n",
      "Stop-words: a , on , about , i , when , what , having , are , it , you , the , if\n",
      "Adjectives: \n",
      "Adverbs: When\n"
     ]
    }
   ],
   "source": [
    "print_(TEXT2)"
   ]
  },
  {
   "cell_type": "markdown",
   "metadata": {},
   "source": [
    "### Example 3\n",
    "\n",
    "<p>The woman is a feisty one but her daughter is such a beauty I'm obliged to keep mommy alive for at least a short time until we are locked in the privacy of my refuge.</p>"
   ]
  },
  {
   "cell_type": "code",
   "execution_count": 58,
   "metadata": {
    "collapsed": true
   },
   "outputs": [],
   "source": [
    "TEXT3 = \"The woman is a feisty one but her daughter is such a beauty I'm obliged to keep mommy alive for at least a short time until we are locked in the privacy of my refuge.\""
   ]
  },
  {
   "cell_type": "code",
   "execution_count": 59,
   "metadata": {},
   "outputs": [
    {
     "name": "stdout",
     "output_type": "stream",
     "text": [
      "Nouns: woman , daughter , beauty , mommy , time , privacy , refuge\n",
      "Verbs: is , is , 'm , obliged , keep , are , locked\n",
      "Stop-words: a , we , for , her , of , is , but , to , at , in , such , the , my , until , are\n",
      "Adjectives: feisty , such , alive , least , short\n",
      "Adverbs: \n",
      "Synonyms: word(feisty) : touchy , spunky , feisty , huffy , thin-skinned , plucky\n",
      "Antonyms: word(feisty) : \n",
      "Synonyms: word(such) : such\n",
      "Antonyms: word(such) : \n",
      "Synonyms: word(alive) : alive , alert , live , awake , active , animated\n",
      "Antonyms: word(alive) : unanimated , dead\n",
      "Synonyms: word(least) : least , to_the_lowest_degree\n",
      "Antonyms: word(least) : most\n",
      "Synonyms: word(short) : curt , curtly , suddenly , inadequate , dead , unretentive\n",
      "Antonyms: word(short) : tall , long , retentive\n"
     ]
    }
   ],
   "source": [
    "print_(TEXT3)"
   ]
  },
  {
   "cell_type": "markdown",
   "metadata": {},
   "source": [
    "### Example 4\n",
    "\n",
    "<p>Mr. Thomas Morley was admitted with a gunshot wound to his leg, sustained, according to him, when he was mugged in an alley while taking a short cut to his car.</p>"
   ]
  },
  {
   "cell_type": "code",
   "execution_count": 60,
   "metadata": {
    "collapsed": true
   },
   "outputs": [],
   "source": [
    "TEXT4 = \"Mr. Thomas Morley was admitted with a gunshot wound to his leg, sustained, according to him, when he was mugged in an alley while taking a short cut to his car.\""
   ]
  },
  {
   "cell_type": "code",
   "execution_count": 61,
   "metadata": {},
   "outputs": [
    {
     "name": "stdout",
     "output_type": "stream",
     "text": [
      "Nouns: Mr. , Thomas , Morley , gunshot , wound , leg , alley , cut , car\n",
      "Verbs: was , admitted , sustained , according , was , mugged , taking\n",
      "Stop-words: a , his , was , when , an , to , while , in , with , he\n",
      "Adjectives: short\n",
      "Adverbs: when\n",
      "Synonyms: word(short) : curt , curtly , suddenly , inadequate , dead , unretentive\n",
      "Antonyms: word(short) : tall , long , retentive\n"
     ]
    }
   ],
   "source": [
    "print_(TEXT4)"
   ]
  },
  {
   "cell_type": "markdown",
   "metadata": {},
   "source": [
    "### Example 5\n",
    "\n",
    "<p>At the end of the day, you are solely responsible for your success and your failure. And the sooner you realize that, you accept that, and integrate that into your work ethic, you will start being successful. As long as you blame others for the reason you aren't where you want to be, you will always be a failure.</p>"
   ]
  },
  {
   "cell_type": "code",
   "execution_count": 62,
   "metadata": {
    "collapsed": true
   },
   "outputs": [],
   "source": [
    "TEXT5 = \"At the end of the day, you are solely responsible for your success and your failure. And the sooner you realize that, you accept that, and integrate that into your work ethic, you will start being successful. As long as you blame others for the reason you aren't where you want to be, you will always be a failure.\""
   ]
  },
  {
   "cell_type": "code",
   "execution_count": 65,
   "metadata": {},
   "outputs": [
    {
     "name": "stdout",
     "output_type": "stream",
     "text": [
      "Nouns: end , day , success , failure , sooner , work , others , reason , failure\n",
      "Verbs: are , realize , accept , integrate , start , being , blame , are , want , be , be\n",
      "Stop-words: and , be , for , that , being , of , into , your , will , to , as , are , a , the , where , you , at\n",
      "Adjectives: responsible , successful\n",
      "Adverbs: solely , ethic , As , long , n't , where , always\n",
      "Synonyms: word(responsible) : creditworthy , responsible , responsible_for\n",
      "Antonyms: word(responsible) : irresponsible\n",
      "Synonyms: word(successful) : successful\n",
      "Antonyms: word(successful) : unsuccessful\n"
     ]
    }
   ],
   "source": [
    "print_(TEXT5)"
   ]
  },
  {
   "cell_type": "markdown",
   "metadata": {},
   "source": [
    "###################################################################################################################"
   ]
  },
  {
   "cell_type": "markdown",
   "metadata": {
    "collapsed": true
   },
   "source": [
    "<h3>Intent & Entitiie</h3>"
   ]
  },
  {
   "cell_type": "markdown",
   "metadata": {
    "collapsed": true
   },
   "source": [
    "#### 8. All the entities in the sentence.\n",
    "#### 9. Find the intent of the sentence – ( Propose a technique to find the intent of the statement, and give reasoning for and against your technique proposed)\n",
    "\n",
    "\n",
    "\n",
    "<p>(Ex: “I would like to work for Fragma Data Systems” : Here the intent of the\n",
    "sentence is ‘To work for’, the entity that the intent is aimed at is ‘Fragma Data\n",
    "Systems’ and the Subject of the intent is ‘I’)</p>"
   ]
  },
  {
   "cell_type": "markdown",
   "metadata": {},
   "source": [
    "### Techniques\n",
    "### 1.\n",
    "### Using different intent & entities extracting UX platforms. example - api.ai, wit.ai, etc.(Given problem is done by using API.ai)\n",
    "\n",
    "### 2.\n",
    "### We can also use different libraries like mitie, spacy, chatterbot etc in which we will train model to extract specific entities from an intent.(no UX have to do with hardcoding it)\n",
    "\n",
    "\n",
    "### 3. \n",
    "### Using Glove(global vectors for words)"
   ]
  },
  {
   "cell_type": "markdown",
   "metadata": {},
   "source": []
  },
  {
   "cell_type": "markdown",
   "metadata": {},
   "source": [
    "### Intent and entities extraction using API.ai"
   ]
  },
  {
   "cell_type": "code",
   "execution_count": null,
   "metadata": {
    "collapsed": true
   },
   "outputs": [],
   "source": []
  },
  {
   "cell_type": "code",
   "execution_count": 3,
   "metadata": {
    "collapsed": true
   },
   "outputs": [],
   "source": [
    "# client access token from api.ai console\n",
    "CLIENT_ACCESS_TOKEN = 'f72639ee55444ec0b0c65c30b1926b8b'"
   ]
  },
  {
   "cell_type": "code",
   "execution_count": 67,
   "metadata": {},
   "outputs": [],
   "source": [
    "# function to extract intent, company , subject from sentence.\n",
    "def intent_entity(access_token, text):\n",
    "    ai = apiai.ApiAI(access_token) # api.ai client\n",
    "    request = ai.text_request() # requesting\n",
    "    request.lang = 'en' # language english\n",
    "    request.session_id = \"0000000000000000\" # random session_id\n",
    "    request.query = text # user specified text\n",
    "    response = json.loads(request.getresponse().read()) # loading into json\n",
    "    data = { # fetching intent , company, subject \n",
    "        \"intent\": response['result']['metadata']['intentName'],\n",
    "        \"company\": response['result']['parameters']['company'],\n",
    "        \"subject\": response['result']['parameters']['subject']\n",
    "    }\n",
    "    \n",
    "    return data"
   ]
  },
  {
   "cell_type": "code",
   "execution_count": null,
   "metadata": {
    "collapsed": true
   },
   "outputs": [],
   "source": [
    "# first we have to train model using api.ai UX platform.\n"
   ]
  },
  {
   "cell_type": "code",
   "execution_count": 68,
   "metadata": {
    "collapsed": true
   },
   "outputs": [],
   "source": [
    "job_text = \"I would like to work for Fragma Data Systems\""
   ]
  },
  {
   "cell_type": "code",
   "execution_count": 74,
   "metadata": {},
   "outputs": [
    {
     "data": {
      "text/plain": [
       "{'company': u' Fragma Data Systems', 'intent': u'work_for', 'subject': u'I'}"
      ]
     },
     "execution_count": 74,
     "metadata": {},
     "output_type": "execute_result"
    }
   ],
   "source": [
    "intent_entity(CLIENT_ACCESS_TOKEN, job_text)"
   ]
  },
  {
   "cell_type": "code",
   "execution_count": null,
   "metadata": {
    "collapsed": true
   },
   "outputs": [],
   "source": []
  },
  {
   "cell_type": "code",
   "execution_count": 70,
   "metadata": {
    "collapsed": true
   },
   "outputs": [],
   "source": [
    "job_text1 = \"Ravi want to work for Google\""
   ]
  },
  {
   "cell_type": "code",
   "execution_count": 75,
   "metadata": {},
   "outputs": [
    {
     "data": {
      "text/plain": [
       "{'company': u'Google', 'intent': u'work_for', 'subject': u'ravi'}"
      ]
     },
     "execution_count": 75,
     "metadata": {},
     "output_type": "execute_result"
    }
   ],
   "source": [
    "intent_entity(CLIENT_ACCESS_TOKEN, job_text1)"
   ]
  },
  {
   "cell_type": "code",
   "execution_count": null,
   "metadata": {
    "collapsed": true
   },
   "outputs": [],
   "source": []
  },
  {
   "cell_type": "code",
   "execution_count": 76,
   "metadata": {
    "collapsed": true
   },
   "outputs": [],
   "source": [
    "job_text2 = \"i want to work for Microsoft\""
   ]
  },
  {
   "cell_type": "code",
   "execution_count": 77,
   "metadata": {},
   "outputs": [
    {
     "data": {
      "text/plain": [
       "{'company': u'microsoft', 'intent': u'work_for', 'subject': u'I'}"
      ]
     },
     "execution_count": 77,
     "metadata": {},
     "output_type": "execute_result"
    }
   ],
   "source": [
    "intent_entity(CLIENT_ACCESS_TOKEN, job_text2)"
   ]
  },
  {
   "cell_type": "code",
   "execution_count": null,
   "metadata": {
    "collapsed": true
   },
   "outputs": [],
   "source": []
  },
  {
   "cell_type": "code",
   "execution_count": 78,
   "metadata": {
    "collapsed": true
   },
   "outputs": [],
   "source": [
    "job_text3 = \"Sam would like to work for Fragma Data Systems\""
   ]
  },
  {
   "cell_type": "code",
   "execution_count": 79,
   "metadata": {},
   "outputs": [
    {
     "data": {
      "text/plain": [
       "{'company': u' Fragma Data Systems', 'intent': u'work_for', 'subject': u'sam'}"
      ]
     },
     "execution_count": 79,
     "metadata": {},
     "output_type": "execute_result"
    }
   ],
   "source": [
    "intent_entity(CLIENT_ACCESS_TOKEN, job_text3)"
   ]
  },
  {
   "cell_type": "code",
   "execution_count": null,
   "metadata": {
    "collapsed": true
   },
   "outputs": [],
   "source": []
  },
  {
   "cell_type": "code",
   "execution_count": 80,
   "metadata": {
    "collapsed": true
   },
   "outputs": [],
   "source": [
    " job_text4 = \"I would like to work for TCS\""
   ]
  },
  {
   "cell_type": "code",
   "execution_count": 81,
   "metadata": {},
   "outputs": [
    {
     "data": {
      "text/plain": [
       "{'company': u'TCS', 'intent': u'work_for', 'subject': u'I'}"
      ]
     },
     "execution_count": 81,
     "metadata": {},
     "output_type": "execute_result"
    }
   ],
   "source": [
    "intent_entity(CLIENT_ACCESS_TOKEN, job_text4)"
   ]
  },
  {
   "cell_type": "code",
   "execution_count": null,
   "metadata": {
    "collapsed": true
   },
   "outputs": [],
   "source": []
  },
  {
   "cell_type": "markdown",
   "metadata": {
    "collapsed": true
   },
   "source": [
    "# Problem Statement 2: Text analytics and Language Detection\n",
    "\n",
    "\n",
    "<p>Given a snippet of text in English, French, German, or Spanish, out put the following : <br>\n",
    "1. Output a Histogram of the frequency of each stop word. <br>\n",
    "2. Detect the snippet's language and print the language name. You may build an offline\n",
    "model for this. <br>\n",
    "The snippet may contain one or more lines.</p>"
   ]
  },
  {
   "cell_type": "code",
   "execution_count": null,
   "metadata": {
    "collapsed": true
   },
   "outputs": [],
   "source": [
    "# library to detect language "
   ]
  },
  {
   "cell_type": "code",
   "execution_count": 83,
   "metadata": {
    "collapsed": true
   },
   "outputs": [],
   "source": [
    "from langdetect import detect"
   ]
  },
  {
   "cell_type": "code",
   "execution_count": 84,
   "metadata": {},
   "outputs": [
    {
     "data": {
      "text/plain": [
       "u'en'"
      ]
     },
     "execution_count": 84,
     "metadata": {},
     "output_type": "execute_result"
    }
   ],
   "source": [
    "detect('Output a Histogram of the frequency of each stop word. ')"
   ]
  },
  {
   "cell_type": "code",
   "execution_count": 30,
   "metadata": {},
   "outputs": [
    {
     "data": {
      "text/plain": [
       "u'de'"
      ]
     },
     "execution_count": 30,
     "metadata": {},
     "output_type": "execute_result"
    }
   ],
   "source": [
    "detect(\"Hamburg die Zusammenfassung aller drei Teile\")\n"
   ]
  },
  {
   "cell_type": "code",
   "execution_count": null,
   "metadata": {
    "collapsed": true
   },
   "outputs": [],
   "source": [
    "# above library is good for small sentences ."
   ]
  },
  {
   "cell_type": "code",
   "execution_count": null,
   "metadata": {
    "collapsed": true
   },
   "outputs": [],
   "source": []
  },
  {
   "cell_type": "markdown",
   "metadata": {
    "collapsed": true
   },
   "source": [
    "#### german text"
   ]
  },
  {
   "cell_type": "code",
   "execution_count": 92,
   "metadata": {
    "collapsed": true
   },
   "outputs": [],
   "source": [
    "g_text = '''Hamburg - Der Weltklimarat (IPCC) hat in Kopenhagen eine Debatte über die Zusammenfassung aller drei Teile\n",
    "seines neuen großen Klimaberichts begonnen. Bis zum Freitag ringen Wissenschaftler und Regierungsvertreter um\n",
    "den Wortlaut wichtiger Kernaussagen des sogenannten Synthesis-Report, den Uno-Generalsekretär Ban Ki Moon\n",
    "und IPCC-Chef Rajendra Pachauri am Sonntag präsentieren wollen. Die drei einzelnen Teile des Reports hatte das\n",
    "Gremium im September 2013 sowie im März und April 2014 vorgestellt. Die neue Zusammenfassung solle ein\n",
    "Fahrplan für politische Entscheidungsträger sein, anhand derer sie den Weg zu einem globalen Abkommen zum\n",
    "Klimaschutz finden könnten, sagte Pachauri am Montag zum Auftakt der Diskussionen in der dänischen Hauptstadt.'''"
   ]
  },
  {
   "cell_type": "markdown",
   "metadata": {},
   "source": [
    "#### spanish text"
   ]
  },
  {
   "cell_type": "code",
   "execution_count": 93,
   "metadata": {
    "collapsed": true
   },
   "outputs": [],
   "source": [
    "spanish_text = '''Érase una vez que había una mamá cerda que tenía tres cerditos. Ella los amaba mucho, pero no había suficiente comida para alimentarlos, así que los cerditos tuvieron que ir a buscar su suerte.El primer cerdito decidió ir al sur. Encontró a un granjero en el camino que estaba llevando un atado de paja. El cerdito preguntó respetuosamente: \"¿Podría por favor darme esa paja, para que yo pueda construir una casa?'''"
   ]
  },
  {
   "cell_type": "markdown",
   "metadata": {},
   "source": [
    "##### English text"
   ]
  },
  {
   "cell_type": "code",
   "execution_count": 94,
   "metadata": {
    "collapsed": true
   },
   "outputs": [],
   "source": [
    "text = '''The very first lesson that should be taught to us when are old enough to understand it, is that complete\n",
    "freedom from the obligation to work is unnatural, and ought to be illegal, as we can escape our share of\n",
    "the burden of work only by throwing it on someone elses shoulders. Nature ordains that humans shall\n",
    "perish of famine if it stops working. We cannot escape from this tyranny. The question we must settle is\n",
    "how much leisure we can afford to allow ourselves.'''"
   ]
  },
  {
   "cell_type": "markdown",
   "metadata": {},
   "source": [
    "#### french text"
   ]
  },
  {
   "cell_type": "code",
   "execution_count": 95,
   "metadata": {
    "collapsed": true
   },
   "outputs": [],
   "source": [
    "french_text = '''Il était une fois une maman cochon qui avait trois petits cochons. Elle les aimait beaucoup, mais comme il n'y avait pas assez de nourriture pour qu'ils puissent tous manger à leur faim, elle les a envoyé tenter leur chance dans le vaste monde.\n",
    "Le premier petit cochon a décidé d'aller vers le Sud. Alors qu'il marchait le long de la route, il a rencontré un fermier qui portait une botte de paille. Il lui a alors demandé poliment : \"Pourriez-vous s'il vous plaît me donner cette paille, que je puisse construire une maison?'''"
   ]
  },
  {
   "cell_type": "code",
   "execution_count": null,
   "metadata": {
    "collapsed": true
   },
   "outputs": [],
   "source": []
  },
  {
   "cell_type": "code",
   "execution_count": 96,
   "metadata": {
    "collapsed": true
   },
   "outputs": [],
   "source": [
    "# function to plot stop words histogram\n",
    "def plot_stop_freq_plot(text, language):\n",
    "    stop = set(stopwords.words(language))\n",
    "    words = wordpunct_tokenize(text)\n",
    "    stop_words = [words[i].lower() for i in range(len(words)) if words[i].lower() in stop]\n",
    "    dic = nltk.FreqDist(stop_words)\n",
    "    print \"Stop words Histrogram\"\n",
    "    dic.plot(50, cumulative=False)"
   ]
  },
  {
   "cell_type": "markdown",
   "metadata": {
    "collapsed": true
   },
   "source": [
    "### This function detect language"
   ]
  },
  {
   "cell_type": "code",
   "execution_count": 97,
   "metadata": {
    "collapsed": true
   },
   "outputs": [],
   "source": [
    "# use stopwords for different laguages to detect the language\n",
    "def language_detect(text):\n",
    "    lang_ratios = {} # store scores for languages\n",
    "    tokens = wordpunct_tokenize(text) # tokeniziing sentence\n",
    "    words = [word.lower() for word in tokens] # changing to lower case\n",
    "    \n",
    "    for language in stopwords.fileids(): # languages present in stopwords \n",
    "        stopwords_set = set(stopwords.words(language)) # stopwords list for each language\n",
    "        words_set = set(words) # unique\n",
    "        common_elements = words_set.intersection(stopwords_set) # common words between stopwords and sentence\n",
    "        lang_ratios[language] = len(common_elements) # puttting scores for language\n",
    "        \n",
    "    return lang_ratios, max(lang_ratios, key=lang_ratios.get)"
   ]
  },
  {
   "cell_type": "code",
   "execution_count": 98,
   "metadata": {
    "collapsed": true
   },
   "outputs": [],
   "source": [
    "# function to detect language then plot stopwords histrogam. \n",
    "def historam_language_detect(text):\n",
    "    _, lang = language_detect(text)\n",
    "    print \"Detected Language : \"+str(lang)\n",
    "    plot_stop_freq_plot(text, str(lang))"
   ]
  },
  {
   "cell_type": "markdown",
   "metadata": {},
   "source": [
    "### Ex. 1. English"
   ]
  },
  {
   "cell_type": "code",
   "execution_count": 99,
   "metadata": {},
   "outputs": [
    {
     "name": "stdout",
     "output_type": "stream",
     "text": [
      "Detected Language : english\n",
      "Stop words Histrogram\n"
     ]
    },
    {
     "data": {
      "image/png": "[encoded data removed]",
      "text/plain": [
       "<matplotlib.figure.Figure at 0x7fe531dec3d0>"
      ]
     },
     "metadata": {},
     "output_type": "display_data"
    }
   ],
   "source": [
    "historam_language_detect(text)"
   ]
  },
  {
   "cell_type": "markdown",
   "metadata": {},
   "source": [
    "### Ex. 2. German"
   ]
  },
  {
   "cell_type": "code",
   "execution_count": 100,
   "metadata": {},
   "outputs": [
    {
     "name": "stdout",
     "output_type": "stream",
     "text": [
      "Detected Language : german\n",
      "Stop words Histrogram\n"
     ]
    },
    {
     "data": {
      "image/png": "[encoded data removed]",
      "text/plain": [
       "<matplotlib.figure.Figure at 0x7fe5731b4510>"
      ]
     },
     "metadata": {},
     "output_type": "display_data"
    }
   ],
   "source": [
    "historam_language_detect(g_text)"
   ]
  },
  {
   "cell_type": "markdown",
   "metadata": {},
   "source": [
    "### Ex. 3. Spanish"
   ]
  },
  {
   "cell_type": "code",
   "execution_count": 101,
   "metadata": {},
   "outputs": [
    {
     "name": "stdout",
     "output_type": "stream",
     "text": [
      "Detected Language : spanish\n",
      "Stop words Histrogram\n"
     ]
    },
    {
     "data": {
      "image/png": "[encoded data removed]",
      "text/plain": [
       "<matplotlib.figure.Figure at 0x7fe52d0e4710>"
      ]
     },
     "metadata": {},
     "output_type": "display_data"
    }
   ],
   "source": [
    "historam_language_detect(spanish_text)"
   ]
  },
  {
   "cell_type": "markdown",
   "metadata": {},
   "source": [
    "### Ex. 4. French"
   ]
  },
  {
   "cell_type": "code",
   "execution_count": 103,
   "metadata": {},
   "outputs": [
    {
     "name": "stdout",
     "output_type": "stream",
     "text": [
      "Detected Language : french\n",
      "Stop words Histrogram\n"
     ]
    },
    {
     "data": {
      "image/png": "[encoded data removed]",
      "text/plain": [
       "<matplotlib.figure.Figure at 0x7f0d07aa6ad0>"
      ]
     },
     "metadata": {},
     "output_type": "display_data"
    }
   ],
   "source": [
    "historam_language_detect(french_text)"
   ]
  },
  {
   "cell_type": "markdown",
   "metadata": {},
   "source": [
    "\n",
    "\n",
    "\n",
    "## Below link is to train neural network for language detection\n",
    "\n",
    "#### Link:\n",
    "https://github.com/lukaszkm/machinelearningexp/blob/master/Deep_Learning_Language_identification.ipynb"
   ]
  },
  {
   "cell_type": "code",
   "execution_count": null,
   "metadata": {
    "collapsed": true
   },
   "outputs": [],
   "source": []
  },
  {
   "cell_type": "code",
   "execution_count": null,
   "metadata": {
    "collapsed": true
   },
   "outputs": [],
   "source": []
  }
 ],
 "metadata": {
  "kernelspec": {
   "display_name": "Python 2",
   "language": "python",
   "name": "python2"
  },
  "language_info": {
   "codemirror_mode": {
    "name": "ipython",
    "version": 2
   },
   "file_extension": ".py",
   "mimetype": "text/x-python",
   "name": "python",
   "nbconvert_exporter": "python",
   "pygments_lexer": "ipython2",
   "version": "2.7.13"
  }
 },
 "nbformat": 4,
 "nbformat_minor": 2
}
